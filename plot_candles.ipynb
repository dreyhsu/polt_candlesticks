{
 "cells": [
  {
   "cell_type": "code",
   "execution_count": 19,
   "metadata": {},
   "outputs": [],
   "source": [
    "import pandas as pd\n",
    "import sqlite3\n",
    "import numpy as np\n",
    "import matplotlib.pyplot as plt\n",
    "import mpl_finance as mpf"
   ]
  },
  {
   "cell_type": "code",
   "execution_count": 16,
   "metadata": {},
   "outputs": [],
   "source": [
    "conn = sqlite3.connect('stocks/2330.db')\n",
    "df = pd.read_sql(con=conn,sql='SELECT * FROM price' )"
   ]
  },
  {
   "cell_type": "code",
   "execution_count": 21,
   "metadata": {},
   "outputs": [],
   "source": [
    "def fig_plot(df):\n",
    "    n = -80\n",
    "    closes = np.array(df['Close'].iloc[n:].tolist())\n",
    "    highs = np.array(df['High'].iloc[n:].tolist())\n",
    "    lows = np.array(df['Low'].iloc[n:].tolist())\n",
    "    opens = np.array(df['Open'].iloc[n:].tolist())\n",
    "    Time = np.array(df['Date'].iloc[n:].tolist())\n",
    "    ax = plt.figure(1)\n",
    "    ax = plt.subplot(111)\n",
    "    ax.set_xticks(range(0, len(Time), 15))\n",
    "    ax.set_xticklabels(Time[::10], rotation=40)\n",
    "    plt.title(\"2330\")\n",
    "    mpf.candlestick2_ochl(ax, opens, closes, highs, lows, width=0.6, colorup='r', colordown='g')\n",
    "    plt.show()"
   ]
  },
  {
   "cell_type": "code",
   "execution_count": 22,
   "metadata": {},
   "outputs": [
    {
     "data": {
      "image/png": "[encoded data removed]",
      "text/plain": [
       "<Figure size 432x288 with 1 Axes>"
      ]
     },
     "metadata": {
      "needs_background": "light"
     },
     "output_type": "display_data"
    }
   ],
   "source": [
    "fig_plot(df)"
   ]
  }
 ],
 "metadata": {
  "kernelspec": {
   "display_name": "Python 3",
   "language": "python",
   "name": "python3"
  },
  "language_info": {
   "codemirror_mode": {
    "name": "ipython",
    "version": 3
   },
   "file_extension": ".py",
   "mimetype": "text/x-python",
   "name": "python",
   "nbconvert_exporter": "python",
   "pygments_lexer": "ipython3",
   "version": "3.7.3"
  }
 },
 "nbformat": 4,
 "nbformat_minor": 2
}
